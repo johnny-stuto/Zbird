{
 "cells": [
  {
   "cell_type": "markdown",
   "id": "eca50d49",
   "metadata": {},
   "source": [
    "# Satellite Ping Status Example\n",
    "\n",
    "This notebook shows how to use the `satellite_ping_status` package to ping satellites and display their status."
   ]
  },
  {
   "cell_type": "markdown",
   "id": "0cce6bef",
   "metadata": {},
   "source": [
    "## Install Dependencies\n",
    "```bash\n",
    "!pip install -r requirements.txt\n",
    "```"
   ]
  },
  {
   "cell_type": "markdown",
   "id": "23715f37",
   "metadata": {},
   "source": [
    "## Example Configuration\n",
    "```yaml\n",
    "satellites:\n",
    "  - name: Hubble\n",
    "    endpoint: https://example.com/ping/hubble\n",
    "    retries: 2\n",
    "    timeout: 5\n",
    "interval: 30\n",
    "```"
   ]
  },
  {
   "cell_type": "markdown",
   "id": "191fe81c",
   "metadata": {},
   "source": [
    "Save the above YAML to `config.yaml` in your working directory."
   ]
  },
  {
   "cell_type": "code",
   "execution_count": null,
   "id": "4093f990",
   "metadata": {},
   "outputs": [],
   "source": [
    "from satellite_ping_status.config import load_config\n",
    "from satellite_ping_status.ping import SatellitePinger\n",
    "from satellite_ping_status.status import report_status\n",
    "\n",
    "# Load the configuration\\config = load_config('config.yaml')\n",
    "\n",
    "# Initialize the pinger\n",
    "pinger = SatellitePinger(config['satellites'])\n",
    "\n",
    "# Run one ping cycle and display results\n",
    "results = await pinger.run_cycle()\n",
    "report_status(results)"
   ]
  },
  {
   "cell_type": "markdown",
   "id": "38d1a353",
   "metadata": {},
   "source": [
    "You can then run the full loop in a script or extend this notebook to visualize, log to a file, or integrate into other systems."
   ]
  }
 ],
 "metadata": {},
 "nbformat": 4,
 "nbformat_minor": 5
}
